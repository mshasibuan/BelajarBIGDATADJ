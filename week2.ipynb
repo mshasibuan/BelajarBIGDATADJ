{
  "nbformat": 4,
  "nbformat_minor": 0,
  "metadata": {
    "colab": {
      "provenance": [],
      "authorship_tag": "ABX9TyMhVPhpP6N7o92QQAeUuA2G",
      "include_colab_link": true
    },
    "kernelspec": {
      "name": "python3",
      "display_name": "Python 3"
    },
    "language_info": {
      "name": "python"
    }
  },
  "cells": [
    {
      "cell_type": "markdown",
      "metadata": {
        "id": "view-in-github",
        "colab_type": "text"
      },
      "source": [
        "<a href=\"https://colab.research.google.com/github/mshasibuan/BelajarBIGDATADJ/blob/main/week2.ipynb\" target=\"_parent\"><img src=\"https://colab.research.google.com/assets/colab-badge.svg\" alt=\"Open In Colab\"/></a>"
      ]
    },
    {
      "cell_type": "code",
      "execution_count": 1,
      "metadata": {
        "colab": {
          "base_uri": "https://localhost:8080/"
        },
        "id": "AP_ADjXuZiA8",
        "outputId": "3f193538-007f-410c-833e-84f412e4503c"
      },
      "outputs": [
        {
          "output_type": "stream",
          "name": "stdout",
          "text": [
            "Mounted at /content/Mydrive\n"
          ]
        }
      ],
      "source": [
        "from google.colab import drive\n",
        "drive.mount ('/content/Mydrive')"
      ]
    },
    {
      "cell_type": "code",
      "source": [
        "import cv2\n",
        "data = cv2.imread ('/Mydrive/Analisis Big Data/sertifikat.jpg')\n",
        "data"
      ],
      "metadata": {
        "id": "pRvs5FCAfnzU"
      },
      "execution_count": 2,
      "outputs": []
    }
  ]
}